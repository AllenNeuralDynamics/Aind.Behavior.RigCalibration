{
 "cells": [
  {
   "cell_type": "code",
   "execution_count": 1,
   "metadata": {},
   "outputs": [],
   "source": [
    "from olfactometer_ingestion import create_device, populate_software_events\n",
    "from pathlib import Path"
   ]
  },
  {
   "cell_type": "code",
   "execution_count": 2,
   "metadata": {},
   "outputs": [],
   "source": [
    "TARGET_PATH = Path(r\"C:\\Users\\huy.nguyen\\Downloads\\20240301T160321 1\\20240301T160321\")\n",
    "OLFACTOMETER = create_device(\"Olfactometer\")\n",
    "ANALOG_INPUT = create_device(\"AnalogInput\")\n",
    "SOFTWARE_EVENTS = populate_software_events(root_path=TARGET_PATH)"
   ]
  },
  {
   "cell_type": "code",
   "execution_count": 5,
   "metadata": {},
   "outputs": [
    {
     "name": "stdout",
     "output_type": "stream",
     "text": [
      "{'IsEndValveCalibration':               timestampSource frameIndex frameTimestamp  \\\n",
      "Seconds                                                   \n",
      "681743.390976            harp       None           None   \n",
      "681868.532992            harp       None           None   \n",
      "681993.657984            harp       None           None   \n",
      "682118.772992            harp       None           None   \n",
      "682243.917984            harp       None           None   \n",
      "682369.068992            harp       None           None   \n",
      "\n",
      "                                name   data dataType  \n",
      "Seconds                                               \n",
      "681743.390976  IsEndValveCalibration   True  boolean  \n",
      "681868.532992  IsEndValveCalibration   True  boolean  \n",
      "681993.657984  IsEndValveCalibration   True  boolean  \n",
      "682118.772992  IsEndValveCalibration  False  boolean  \n",
      "682243.917984  IsEndValveCalibration  False  boolean  \n",
      "682369.068992  IsEndValveCalibration  False  boolean  , 'OdorChannel':               timestampSource frameIndex frameTimestamp         name  \\\n",
      "Seconds                                                                \n",
      "681743.389984            harp       None           None  OdorChannel   \n",
      "681868.532992            harp       None           None  OdorChannel   \n",
      "681993.657984            harp       None           None  OdorChannel   \n",
      "682118.772992            harp       None           None  OdorChannel   \n",
      "682243.917984            harp       None           None  OdorChannel   \n",
      "682369.068992            harp       None           None  OdorChannel   \n",
      "\n",
      "                                                            data dataType  \n",
      "Seconds                                                                    \n",
      "681743.389984  {'channel_index': 2, 'channel_type': 'Odor', '...   object  \n",
      "681868.532992  {'channel_index': 1, 'channel_type': 'Odor', '...   object  \n",
      "681993.657984  {'channel_index': 0, 'channel_type': 'Odor', '...   object  \n",
      "682118.772992  {'channel_index': 2, 'channel_type': 'Odor', '...   object  \n",
      "682243.917984  {'channel_index': 1, 'channel_type': 'Odor', '...   object  \n",
      "682369.068992  {'channel_index': 0, 'channel_type': 'Odor', '...   object  , 'OdorConfig':               timestampSource frameIndex frameTimestamp        name  \\\n",
      "Seconds                                                               \n",
      "681743.392000            harp       None           None  OdorConfig   \n",
      "681868.532992            harp       None           None  OdorConfig   \n",
      "681993.658976            harp       None           None  OdorConfig   \n",
      "682118.772992            harp       None           None  OdorConfig   \n",
      "682243.917984            harp       None           None  OdorConfig   \n",
      "682369.069984            harp       None           None  OdorConfig   \n",
      "\n",
      "                                                            data dataType  \n",
      "Seconds                                                                    \n",
      "681743.392000  {'channel_index': 2, 'odorant': 'AmylAcetate',...   object  \n",
      "681868.532992  {'channel_index': 1, 'odorant': 'AlphaPinene',...   object  \n",
      "681993.658976  {'channel_index': 0, 'odorant': 'Eugenol', 'od...   object  \n",
      "682118.772992  {'channel_index': 2, 'odorant': 'AmylAcetate',...   object  \n",
      "682243.917984  {'channel_index': 1, 'odorant': 'AlphaPinene',...   object  \n",
      "682369.069984  {'channel_index': 0, 'odorant': 'Eugenol', 'od...   object  }\n"
     ]
    }
   ],
   "source": [
    "print(SOFTWARE_EVENTS)"
   ]
  }
 ],
 "metadata": {
  "kernelspec": {
   "display_name": ".venv",
   "language": "python",
   "name": "python3"
  },
  "language_info": {
   "codemirror_mode": {
    "name": "ipython",
    "version": 3
   },
   "file_extension": ".py",
   "mimetype": "text/x-python",
   "name": "python",
   "nbconvert_exporter": "python",
   "pygments_lexer": "ipython3",
   "version": "3.11.8"
  }
 },
 "nbformat": 4,
 "nbformat_minor": 2
}
